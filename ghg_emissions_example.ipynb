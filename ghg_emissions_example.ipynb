{
  "nbformat": 4,
  "nbformat_minor": 0,
  "metadata": {
    "colab": {
      "name": "ghg_emissions_example.ipynb",
      "provenance": [],
      "toc_visible": true,
      "authorship_tag": "ABX9TyPm0z28w1gqFWDqgl/4EEkE",
      "include_colab_link": true
    },
    "kernelspec": {
      "name": "python3",
      "display_name": "Python 3"
    },
    "widgets": {
      "application/vnd.jupyter.widget-state+json": {
        "2fb9a32e9bba4466a48ca0d47f3083e9": {
          "model_module": "@jupyter-widgets/controls",
          "model_name": "VBoxModel",
          "state": {
            "_view_name": "VBoxView",
            "_dom_classes": [
              "widget-interact"
            ],
            "_model_name": "VBoxModel",
            "_view_module": "@jupyter-widgets/controls",
            "_model_module_version": "1.5.0",
            "_view_count": null,
            "_view_module_version": "1.5.0",
            "box_style": "",
            "layout": "IPY_MODEL_96509866942c47168204bb7a5d533e42",
            "_model_module": "@jupyter-widgets/controls",
            "children": [
              "IPY_MODEL_f51de49d677e4e60bf3ddf70d29e24ec",
              "IPY_MODEL_0a08a2b9be9249b1bbc013dc75fc7d5f"
            ]
          }
        },
        "96509866942c47168204bb7a5d533e42": {
          "model_module": "@jupyter-widgets/base",
          "model_name": "LayoutModel",
          "state": {
            "_view_name": "LayoutView",
            "grid_template_rows": null,
            "right": null,
            "justify_content": null,
            "_view_module": "@jupyter-widgets/base",
            "overflow": null,
            "_model_module_version": "1.2.0",
            "_view_count": null,
            "flex_flow": null,
            "width": null,
            "min_width": null,
            "border": null,
            "align_items": null,
            "bottom": null,
            "_model_module": "@jupyter-widgets/base",
            "top": null,
            "grid_column": null,
            "overflow_y": null,
            "overflow_x": null,
            "grid_auto_flow": null,
            "grid_area": null,
            "grid_template_columns": null,
            "flex": null,
            "_model_name": "LayoutModel",
            "justify_items": null,
            "grid_row": null,
            "max_height": null,
            "align_content": null,
            "visibility": null,
            "align_self": null,
            "height": null,
            "min_height": null,
            "padding": null,
            "grid_auto_rows": null,
            "grid_gap": null,
            "max_width": null,
            "order": null,
            "_view_module_version": "1.2.0",
            "grid_template_areas": null,
            "object_position": null,
            "object_fit": null,
            "grid_auto_columns": null,
            "margin": null,
            "display": null,
            "left": null
          }
        },
        "f51de49d677e4e60bf3ddf70d29e24ec": {
          "model_module": "@jupyter-widgets/controls",
          "model_name": "DropdownModel",
          "state": {
            "_options_labels": [
              "cartagena"
            ],
            "_view_name": "DropdownView",
            "style": "IPY_MODEL_8edc77f6c8514f86b1d555b5431918f5",
            "_dom_classes": [],
            "description": "municipality",
            "_model_name": "DropdownModel",
            "index": 0,
            "_view_module": "@jupyter-widgets/controls",
            "_model_module_version": "1.5.0",
            "_view_count": null,
            "disabled": false,
            "_view_module_version": "1.5.0",
            "description_tooltip": null,
            "_model_module": "@jupyter-widgets/controls",
            "layout": "IPY_MODEL_dc54b9eaebf64a5184cfa598a83bad95"
          }
        },
        "0a08a2b9be9249b1bbc013dc75fc7d5f": {
          "model_module": "@jupyter-widgets/output",
          "model_name": "OutputModel",
          "state": {
            "_view_name": "OutputView",
            "msg_id": "",
            "_dom_classes": [],
            "_model_name": "OutputModel",
            "outputs": [
              {
                "output_type": "display_data",
                "metadata": {
                  "tags": [],
                  "needs_background": "light"
                },
                "image/png": "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\n",
                "text/plain": "<Figure size 432x288 with 1 Axes>"
              }
            ],
            "_view_module": "@jupyter-widgets/output",
            "_model_module_version": "1.0.0",
            "_view_count": null,
            "_view_module_version": "1.0.0",
            "layout": "IPY_MODEL_45aacf418d6f48a39818a59671db5acf",
            "_model_module": "@jupyter-widgets/output"
          }
        },
        "8edc77f6c8514f86b1d555b5431918f5": {
          "model_module": "@jupyter-widgets/controls",
          "model_name": "DescriptionStyleModel",
          "state": {
            "_view_name": "StyleView",
            "_model_name": "DescriptionStyleModel",
            "description_width": "",
            "_view_module": "@jupyter-widgets/base",
            "_model_module_version": "1.5.0",
            "_view_count": null,
            "_view_module_version": "1.2.0",
            "_model_module": "@jupyter-widgets/controls"
          }
        },
        "dc54b9eaebf64a5184cfa598a83bad95": {
          "model_module": "@jupyter-widgets/base",
          "model_name": "LayoutModel",
          "state": {
            "_view_name": "LayoutView",
            "grid_template_rows": null,
            "right": null,
            "justify_content": null,
            "_view_module": "@jupyter-widgets/base",
            "overflow": null,
            "_model_module_version": "1.2.0",
            "_view_count": null,
            "flex_flow": null,
            "width": null,
            "min_width": null,
            "border": null,
            "align_items": null,
            "bottom": null,
            "_model_module": "@jupyter-widgets/base",
            "top": null,
            "grid_column": null,
            "overflow_y": null,
            "overflow_x": null,
            "grid_auto_flow": null,
            "grid_area": null,
            "grid_template_columns": null,
            "flex": null,
            "_model_name": "LayoutModel",
            "justify_items": null,
            "grid_row": null,
            "max_height": null,
            "align_content": null,
            "visibility": null,
            "align_self": null,
            "height": null,
            "min_height": null,
            "padding": null,
            "grid_auto_rows": null,
            "grid_gap": null,
            "max_width": null,
            "order": null,
            "_view_module_version": "1.2.0",
            "grid_template_areas": null,
            "object_position": null,
            "object_fit": null,
            "grid_auto_columns": null,
            "margin": null,
            "display": null,
            "left": null
          }
        },
        "45aacf418d6f48a39818a59671db5acf": {
          "model_module": "@jupyter-widgets/base",
          "model_name": "LayoutModel",
          "state": {
            "_view_name": "LayoutView",
            "grid_template_rows": null,
            "right": null,
            "justify_content": null,
            "_view_module": "@jupyter-widgets/base",
            "overflow": null,
            "_model_module_version": "1.2.0",
            "_view_count": null,
            "flex_flow": null,
            "width": null,
            "min_width": null,
            "border": null,
            "align_items": null,
            "bottom": null,
            "_model_module": "@jupyter-widgets/base",
            "top": null,
            "grid_column": null,
            "overflow_y": null,
            "overflow_x": null,
            "grid_auto_flow": null,
            "grid_area": null,
            "grid_template_columns": null,
            "flex": null,
            "_model_name": "LayoutModel",
            "justify_items": null,
            "grid_row": null,
            "max_height": null,
            "align_content": null,
            "visibility": null,
            "align_self": null,
            "height": null,
            "min_height": null,
            "padding": null,
            "grid_auto_rows": null,
            "grid_gap": null,
            "max_width": null,
            "order": null,
            "_view_module_version": "1.2.0",
            "grid_template_areas": null,
            "object_position": null,
            "object_fit": null,
            "grid_auto_columns": null,
            "margin": null,
            "display": null,
            "left": null
          }
        }
      }
    }
  },
  "cells": [
    {
      "cell_type": "markdown",
      "metadata": {
        "id": "view-in-github",
        "colab_type": "text"
      },
      "source": [
        "<a href=\"https://colab.research.google.com/github/anaguilarar/ghg_emissions/blob/main/ghg_emissions_example.ipynb\" target=\"_parent\"><img src=\"https://colab.research.google.com/assets/colab-badge.svg\" alt=\"Open In Colab\"/></a>"
      ]
    },
    {
      "cell_type": "markdown",
      "metadata": {
        "id": "WKDSxOaSF7_t"
      },
      "source": [
        "## Greenhouse gas (GHG) emissions for agriculture: Examples"
      ]
    },
    {
      "cell_type": "markdown",
      "metadata": {
        "id": "C8LWqtgbGEgH"
      },
      "source": [
        "The GHG measurement, produced by agricultural activities such as fertilizers, irrigation, tillage, among others, is important for quantifying the impact that this sector has on climate change. For that reason, several methodologies have been proposed to address a baseline measurement using data from farmers. The main purpose of this repository is to offer a tool able to gauge GHG emissions estimation for multiple commercial cropping events. It is important to mention that this work is based on the Mitigation Option Tool for Agriculture project([CCAFS - MOT](https://ccafs.cgiar.org/research/projects/mitigation-options-tool-agriculture-ccafs-mot)) developed by CCAFS and The Aberdeen University. \r\n",
        "\r\n",
        "Clonning the repository"
      ]
    },
    {
      "cell_type": "markdown",
      "metadata": {
        "id": "gxbYqFNSGLli"
      },
      "source": [
        "Following examples are made for gauging GHG emissions from farmer productive events. The first one shows how many CO<sub>2</sub> eq.ha<sup>-1</sup> was produced from fields planted with maize.\r\n",
        "First step is to clone the repository"
      ]
    },
    {
      "cell_type": "code",
      "metadata": {
        "colab": {
          "base_uri": "https://localhost:8080/"
        },
        "id": "gEF6CPsxF3fD",
        "outputId": "c30ce047-beec-4b19-975e-c9d628852a7f"
      },
      "source": [
        "!git clone https://github.com/anaguilarar/ghg_emissions.git"
      ],
      "execution_count": 9,
      "outputs": [
        {
          "output_type": "stream",
          "text": [
            "Cloning into 'ghg_emissions'...\n",
            "remote: Enumerating objects: 69, done.\u001b[K\n",
            "remote: Counting objects: 100% (69/69), done.\u001b[K\n",
            "remote: Compressing objects: 100% (63/63), done.\u001b[K\n",
            "remote: Total 69 (delta 11), reused 63 (delta 5), pack-reused 0\u001b[K\n",
            "Unpacking objects: 100% (69/69), done.\n"
          ],
          "name": "stdout"
        }
      ]
    },
    {
      "cell_type": "code",
      "metadata": {
        "colab": {
          "base_uri": "https://localhost:8080/"
        },
        "id": "S4yunvBiPckf",
        "outputId": "d2712880-d5a7-4bd6-895e-d4ee6b0c820f"
      },
      "source": [
        "!pip install rasterio"
      ],
      "execution_count": 12,
      "outputs": [
        {
          "output_type": "stream",
          "text": [
            "Collecting rasterio\n",
            "\u001b[?25l  Downloading https://files.pythonhosted.org/packages/c0/a8/63d45bb74c17c60e607b4beae77d68ad4c9ea6dff788534ce8c835d1d2f1/rasterio-1.2.0-cp36-cp36m-manylinux1_x86_64.whl (19.1MB)\n",
            "\u001b[K     |████████████████████████████████| 19.1MB 48.4MB/s \n",
            "\u001b[?25hCollecting cligj>=0.5\n",
            "  Downloading https://files.pythonhosted.org/packages/42/1e/947eadf10d6804bf276eb8a038bd5307996dceaaa41cfd21b7a15ec62f5d/cligj-0.7.1-py3-none-any.whl\n",
            "Collecting affine\n",
            "  Downloading https://files.pythonhosted.org/packages/ac/a6/1a39a1ede71210e3ddaf623982b06ecfc5c5c03741ae659073159184cd3e/affine-2.3.0-py2.py3-none-any.whl\n",
            "Collecting click-plugins\n",
            "  Downloading https://files.pythonhosted.org/packages/e9/da/824b92d9942f4e472702488857914bdd50f73021efea15b4cad9aca8ecef/click_plugins-1.1.1-py2.py3-none-any.whl\n",
            "Requirement already satisfied: numpy in /usr/local/lib/python3.6/dist-packages (from rasterio) (1.19.5)\n",
            "Requirement already satisfied: attrs in /usr/local/lib/python3.6/dist-packages (from rasterio) (20.3.0)\n",
            "Collecting snuggs>=1.4.1\n",
            "  Downloading https://files.pythonhosted.org/packages/cc/0e/d27d6e806d6c0d1a2cfdc5d1f088e42339a0a54a09c3343f7f81ec8947ea/snuggs-1.4.7-py3-none-any.whl\n",
            "Requirement already satisfied: certifi in /usr/local/lib/python3.6/dist-packages (from rasterio) (2020.12.5)\n",
            "Requirement already satisfied: click<8,>=4.0 in /usr/local/lib/python3.6/dist-packages (from rasterio) (7.1.2)\n",
            "Requirement already satisfied: pyparsing>=2.1.6 in /usr/local/lib/python3.6/dist-packages (from snuggs>=1.4.1->rasterio) (2.4.7)\n",
            "Installing collected packages: cligj, affine, click-plugins, snuggs, rasterio\n",
            "Successfully installed affine-2.3.0 click-plugins-1.1.1 cligj-0.7.1 rasterio-1.2.0 snuggs-1.4.7\n"
          ],
          "name": "stdout"
        }
      ]
    },
    {
      "cell_type": "markdown",
      "metadata": {
        "id": "EywGxQqIMxgB"
      },
      "source": [
        "We are going to relocate the current work directory to ghg_emissions folder"
      ]
    },
    {
      "cell_type": "code",
      "metadata": {
        "id": "8hXL1uuaMle5"
      },
      "source": [
        "import os \r\n",
        "os.chdir(\"ghg_emissions\")"
      ],
      "execution_count": 10,
      "outputs": []
    },
    {
      "cell_type": "markdown",
      "metadata": {
        "id": "s2_LdpMpOWcY"
      },
      "source": [
        "Now we can run our first example. This data has information from multiple crop events."
      ]
    },
    {
      "cell_type": "code",
      "metadata": {
        "colab": {
          "base_uri": "https://localhost:8080/"
        },
        "id": "XXhOSWRBN6aw",
        "outputId": "670bef7e-01a8-48ec-c2ed-414c50355479"
      },
      "source": [
        "from scripts import crop_ghg_emissions as ghg\r\n",
        "from scripts import plot_functions\r\n",
        "ghg_data = ghg.ghg_emissions('data/inputs_mot_example.xlsx', ## file path to the general information \r\n",
        "                             'data/fertiliser_inputs_mot_example.xlsx', ## file path to the fertilizers information   \r\n",
        "                             id_event= 'event_7') ## you can ppoint out an specif crop event, or for run through the all events don't put this paremeter\r\n"
      ],
      "execution_count": 18,
      "outputs": [
        {
          "output_type": "stream",
          "text": [
            "calculating emissions for event_7\n"
          ],
          "name": "stdout"
        }
      ]
    },
    {
      "cell_type": "markdown",
      "metadata": {
        "id": "612021kaPsRy"
      },
      "source": [
        "Once we use our ghg_emissions function, we can what were the emissions (CO<sub>2</sub> eq.ha<sup>-1</sup>) regarding Burning residues, Land use change, Soil mining, Soil management, and Fertilisers."
      ]
    },
    {
      "cell_type": "code",
      "metadata": {
        "colab": {
          "base_uri": "https://localhost:8080/",
          "height": 98
        },
        "id": "f8JO-WcOPreC",
        "outputId": "6d3f9385-b18d-43a7-93ab-62998f1369d0"
      },
      "source": [
        "ghg_data.emissions_summary"
      ],
      "execution_count": 14,
      "outputs": [
        {
          "output_type": "execute_result",
          "data": {
            "text/html": [
              "<div>\n",
              "<style scoped>\n",
              "    .dataframe tbody tr th:only-of-type {\n",
              "        vertical-align: middle;\n",
              "    }\n",
              "\n",
              "    .dataframe tbody tr th {\n",
              "        vertical-align: top;\n",
              "    }\n",
              "\n",
              "    .dataframe thead th {\n",
              "        text-align: right;\n",
              "    }\n",
              "</style>\n",
              "<table border=\"1\" class=\"dataframe\">\n",
              "  <thead>\n",
              "    <tr style=\"text-align: right;\">\n",
              "      <th></th>\n",
              "      <th>id_event</th>\n",
              "      <th>municipality</th>\n",
              "      <th>Fertiliser production</th>\n",
              "      <th>Fertlises induced field emissions</th>\n",
              "      <th>Soil Management</th>\n",
              "      <th>Soil Mining</th>\n",
              "      <th>Land Use Change effect on soil</th>\n",
              "      <th>Burning residues</th>\n",
              "      <th>Methane from rice</th>\n",
              "    </tr>\n",
              "  </thead>\n",
              "  <tbody>\n",
              "    <tr>\n",
              "      <th>0</th>\n",
              "      <td>event_7</td>\n",
              "      <td>cartagena</td>\n",
              "      <td>0.0</td>\n",
              "      <td>77.7</td>\n",
              "      <td>-1638.12</td>\n",
              "      <td>786.200471</td>\n",
              "      <td>2019.6</td>\n",
              "      <td>0</td>\n",
              "      <td>707.623378</td>\n",
              "    </tr>\n",
              "  </tbody>\n",
              "</table>\n",
              "</div>"
            ],
            "text/plain": [
              "  id_event municipality  ...  Burning residues  Methane from rice\n",
              "0  event_7    cartagena  ...                 0         707.623378\n",
              "\n",
              "[1 rows x 9 columns]"
            ]
          },
          "metadata": {
            "tags": []
          },
          "execution_count": 14
        }
      ]
    },
    {
      "cell_type": "markdown",
      "metadata": {
        "id": "UJEqkV57QKl9"
      },
      "source": [
        "In the case that we are interested on claculating emisisons for multiple points, we don't point out any id event"
      ]
    },
    {
      "cell_type": "code",
      "metadata": {
        "colab": {
          "base_uri": "https://localhost:8080/",
          "height": 465
        },
        "id": "YDPOBbBBQJvc",
        "outputId": "93e5d305-eeb1-4785-d2ed-5884259fba6e"
      },
      "source": [
        "ghg_data = ghg.ghg_emissions('data/inputs_mot_example.xlsx', ## file path to the general information \r\n",
        "                             'data/fertiliser_inputs_mot_example.xlsx')\r\n",
        "\r\n",
        "ghg_data.emissions_summary"
      ],
      "execution_count": 16,
      "outputs": [
        {
          "output_type": "stream",
          "text": [
            "calculating emissions for event_0\n",
            "calculating emissions for event_1\n",
            "calculating emissions for event_2\n",
            "calculating emissions for event_3\n",
            "calculating emissions for event_4\n",
            "calculating emissions for event_5\n",
            "calculating emissions for event_6\n",
            "calculating emissions for event_7\n"
          ],
          "name": "stdout"
        },
        {
          "output_type": "execute_result",
          "data": {
            "text/html": [
              "<div>\n",
              "<style scoped>\n",
              "    .dataframe tbody tr th:only-of-type {\n",
              "        vertical-align: middle;\n",
              "    }\n",
              "\n",
              "    .dataframe tbody tr th {\n",
              "        vertical-align: top;\n",
              "    }\n",
              "\n",
              "    .dataframe thead th {\n",
              "        text-align: right;\n",
              "    }\n",
              "</style>\n",
              "<table border=\"1\" class=\"dataframe\">\n",
              "  <thead>\n",
              "    <tr style=\"text-align: right;\">\n",
              "      <th></th>\n",
              "      <th>id_event</th>\n",
              "      <th>municipality</th>\n",
              "      <th>Fertiliser production</th>\n",
              "      <th>Fertlises induced field emissions</th>\n",
              "      <th>Soil Management</th>\n",
              "      <th>Soil Mining</th>\n",
              "      <th>Land Use Change effect on soil</th>\n",
              "      <th>Burning residues</th>\n",
              "      <th>Methane from rice</th>\n",
              "    </tr>\n",
              "  </thead>\n",
              "  <tbody>\n",
              "    <tr>\n",
              "      <th>0</th>\n",
              "      <td>event_0</td>\n",
              "      <td>cundinamarca</td>\n",
              "      <td>584.37</td>\n",
              "      <td>604.47</td>\n",
              "      <td>-7920.00</td>\n",
              "      <td>0.000000</td>\n",
              "      <td>20790.000000</td>\n",
              "      <td>876.359608</td>\n",
              "      <td>NaN</td>\n",
              "    </tr>\n",
              "    <tr>\n",
              "      <th>0</th>\n",
              "      <td>event_1</td>\n",
              "      <td>santander</td>\n",
              "      <td>206.00</td>\n",
              "      <td>174.52</td>\n",
              "      <td>-374.66</td>\n",
              "      <td>809.750588</td>\n",
              "      <td>1801.800000</td>\n",
              "      <td>0.000000</td>\n",
              "      <td>NaN</td>\n",
              "    </tr>\n",
              "    <tr>\n",
              "      <th>0</th>\n",
              "      <td>event_2</td>\n",
              "      <td>nariño</td>\n",
              "      <td>484.04</td>\n",
              "      <td>149.09</td>\n",
              "      <td>-2431.00</td>\n",
              "      <td>0.000000</td>\n",
              "      <td>0.000000</td>\n",
              "      <td>0.000000</td>\n",
              "      <td>NaN</td>\n",
              "    </tr>\n",
              "    <tr>\n",
              "      <th>0</th>\n",
              "      <td>event_3</td>\n",
              "      <td>córdoba</td>\n",
              "      <td>650.93</td>\n",
              "      <td>772.42</td>\n",
              "      <td>-4895.60</td>\n",
              "      <td>1805.334588</td>\n",
              "      <td>0.000000</td>\n",
              "      <td>666.949453</td>\n",
              "      <td>NaN</td>\n",
              "    </tr>\n",
              "    <tr>\n",
              "      <th>0</th>\n",
              "      <td>event_4</td>\n",
              "      <td>mmm</td>\n",
              "      <td>1384.00</td>\n",
              "      <td>2152.84</td>\n",
              "      <td>0.00</td>\n",
              "      <td>0.000000</td>\n",
              "      <td>2019.600000</td>\n",
              "      <td>73.510650</td>\n",
              "      <td>NaN</td>\n",
              "    </tr>\n",
              "    <tr>\n",
              "      <th>0</th>\n",
              "      <td>event_5</td>\n",
              "      <td>reykiavik</td>\n",
              "      <td>248.00</td>\n",
              "      <td>537.45</td>\n",
              "      <td>-1414.29</td>\n",
              "      <td>0.000000</td>\n",
              "      <td>1918.292683</td>\n",
              "      <td>0.000000</td>\n",
              "      <td>NaN</td>\n",
              "    </tr>\n",
              "    <tr>\n",
              "      <th>0</th>\n",
              "      <td>event_6</td>\n",
              "      <td>pasto</td>\n",
              "      <td>252.44</td>\n",
              "      <td>126.19</td>\n",
              "      <td>-7227.00</td>\n",
              "      <td>686.263529</td>\n",
              "      <td>6237.000000</td>\n",
              "      <td>1134.429870</td>\n",
              "      <td>38453.949262</td>\n",
              "    </tr>\n",
              "    <tr>\n",
              "      <th>0</th>\n",
              "      <td>event_7</td>\n",
              "      <td>cartagena</td>\n",
              "      <td>0.00</td>\n",
              "      <td>77.70</td>\n",
              "      <td>-1638.12</td>\n",
              "      <td>786.200471</td>\n",
              "      <td>2019.600000</td>\n",
              "      <td>0.000000</td>\n",
              "      <td>707.623378</td>\n",
              "    </tr>\n",
              "  </tbody>\n",
              "</table>\n",
              "</div>"
            ],
            "text/plain": [
              "  id_event  municipality  ...  Burning residues  Methane from rice\n",
              "0  event_0  cundinamarca  ...        876.359608                NaN\n",
              "0  event_1     santander  ...          0.000000                NaN\n",
              "0  event_2        nariño  ...          0.000000                NaN\n",
              "0  event_3       córdoba  ...        666.949453                NaN\n",
              "0  event_4           mmm  ...         73.510650                NaN\n",
              "0  event_5     reykiavik  ...          0.000000                NaN\n",
              "0  event_6         pasto  ...       1134.429870       38453.949262\n",
              "0  event_7     cartagena  ...          0.000000         707.623378\n",
              "\n",
              "[8 rows x 9 columns]"
            ]
          },
          "metadata": {
            "tags": []
          },
          "execution_count": 16
        }
      ]
    },
    {
      "cell_type": "markdown",
      "metadata": {
        "id": "HNJ5QxjSPneR"
      },
      "source": [
        "###Visualization\r\n",
        "\r\n",
        "For an easy visualization, we included a bar plot graphic"
      ]
    },
    {
      "cell_type": "code",
      "metadata": {
        "colab": {
          "base_uri": "https://localhost:8080/",
          "height": 285
        },
        "id": "XAs9VXIiPmvw",
        "outputId": "86cc05cf-3c43-4c93-a5b0-cf02305926e5"
      },
      "source": [
        "plot_functions.bar_plot_emissions(\r\n",
        "    ghg_data.emissions_summary, #  table summary obtained from previous step\r\n",
        "    'mean')# function to aggregated all crop events"
      ],
      "execution_count": 19,
      "outputs": [
        {
          "output_type": "display_data",
          "data": {
            "image/png": "[encoded data removed]",
            "text/plain": [
              "<Figure size 432x288 with 1 Axes>"
            ]
          },
          "metadata": {
            "tags": [],
            "needs_background": "light"
          }
        }
      ]
    },
    {
      "cell_type": "markdown",
      "metadata": {
        "id": "wS67R0tqRTfI"
      },
      "source": [
        "A final plot was also included aimed at showing the emissions for specific localities"
      ]
    },
    {
      "cell_type": "code",
      "metadata": {
        "colab": {
          "base_uri": "https://localhost:8080/",
          "height": 335,
          "referenced_widgets": [
            "2fb9a32e9bba4466a48ca0d47f3083e9",
            "96509866942c47168204bb7a5d533e42",
            "f51de49d677e4e60bf3ddf70d29e24ec",
            "0a08a2b9be9249b1bbc013dc75fc7d5f",
            "8edc77f6c8514f86b1d555b5431918f5",
            "dc54b9eaebf64a5184cfa598a83bad95",
            "45aacf418d6f48a39818a59671db5acf"
          ]
        },
        "id": "-AKOVhzfRxuE",
        "outputId": "5af2026d-58b0-4079-85f6-1589f90db281"
      },
      "source": [
        "from ipywidgets import interact, interactive, fixed, interact_manual\r\n",
        "import ipywidgets as widgets\r\n",
        "\r\n",
        "def f(municipality):\r\n",
        "    subset = datatest.loc[datatest['municipality'] == municipality]\r\n",
        "    plot_functions.bar_plot_emissions(subset, 'mean')\r\n",
        "    \r\n",
        "datatest = ghg_data.emissions_summary.copy()\r\n",
        "interact(f, municipality=datatest.municipality.unique())"
      ],
      "execution_count": 20,
      "outputs": [
        {
          "output_type": "display_data",
          "data": {
            "application/vnd.jupyter.widget-view+json": {
              "model_id": "2fb9a32e9bba4466a48ca0d47f3083e9",
              "version_minor": 0,
              "version_major": 2
            },
            "text/plain": [
              "interactive(children=(Dropdown(description='municipality', options=('cartagena',), value='cartagena'), Output(…"
            ]
          },
          "metadata": {
            "tags": []
          }
        },
        {
          "output_type": "execute_result",
          "data": {
            "text/plain": [
              "<function __main__.f>"
            ]
          },
          "metadata": {
            "tags": []
          },
          "execution_count": 20
        }
      ]
    }
  ]
}