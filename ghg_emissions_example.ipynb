{
  "nbformat": 4,
  "nbformat_minor": 0,
  "metadata": {
    "colab": {
      "name": "ghg_emissions_example.ipynb",
      "provenance": [],
      "toc_visible": true,
      "authorship_tag": "ABX9TyN/ZyTyJY54Oze62tFcT6V7",
      "include_colab_link": true
    },
    "kernelspec": {
      "name": "python3",
      "display_name": "Python 3"
    },
    "widgets": {
      "application/vnd.jupyter.widget-state+json": {
        "78b7cf033adf4ecaa2fdaba44e4a733e": {
          "model_module": "@jupyter-widgets/controls",
          "model_name": "VBoxModel",
          "state": {
            "_view_name": "VBoxView",
            "_dom_classes": [
              "widget-interact"
            ],
            "_model_name": "VBoxModel",
            "_view_module": "@jupyter-widgets/controls",
            "_model_module_version": "1.5.0",
            "_view_count": null,
            "_view_module_version": "1.5.0",
            "box_style": "",
            "layout": "IPY_MODEL_cd3928c702ad4dc69ceeff9f410211b0",
            "_model_module": "@jupyter-widgets/controls",
            "children": [
              "IPY_MODEL_f1b7af5ff15e4becb52319ad3e1ced47",
              "IPY_MODEL_c51aa051efe04d978e40c4be5acdea54"
            ]
          }
        },
        "cd3928c702ad4dc69ceeff9f410211b0": {
          "model_module": "@jupyter-widgets/base",
          "model_name": "LayoutModel",
          "state": {
            "_view_name": "LayoutView",
            "grid_template_rows": null,
            "right": null,
            "justify_content": null,
            "_view_module": "@jupyter-widgets/base",
            "overflow": null,
            "_model_module_version": "1.2.0",
            "_view_count": null,
            "flex_flow": null,
            "width": null,
            "min_width": null,
            "border": null,
            "align_items": null,
            "bottom": null,
            "_model_module": "@jupyter-widgets/base",
            "top": null,
            "grid_column": null,
            "overflow_y": null,
            "overflow_x": null,
            "grid_auto_flow": null,
            "grid_area": null,
            "grid_template_columns": null,
            "flex": null,
            "_model_name": "LayoutModel",
            "justify_items": null,
            "grid_row": null,
            "max_height": null,
            "align_content": null,
            "visibility": null,
            "align_self": null,
            "height": null,
            "min_height": null,
            "padding": null,
            "grid_auto_rows": null,
            "grid_gap": null,
            "max_width": null,
            "order": null,
            "_view_module_version": "1.2.0",
            "grid_template_areas": null,
            "object_position": null,
            "object_fit": null,
            "grid_auto_columns": null,
            "margin": null,
            "display": null,
            "left": null
          }
        },
        "f1b7af5ff15e4becb52319ad3e1ced47": {
          "model_module": "@jupyter-widgets/controls",
          "model_name": "DropdownModel",
          "state": {
            "_options_labels": [
              "cundinamarca",
              "santander",
              "nariño",
              "córdoba",
              "mmm",
              "reykiavik",
              "pasto",
              "cartagena"
            ],
            "_view_name": "DropdownView",
            "style": "IPY_MODEL_bde7805fef78496ca727cd7bc63f0e68",
            "_dom_classes": [],
            "description": "municipality",
            "_model_name": "DropdownModel",
            "index": 0,
            "_view_module": "@jupyter-widgets/controls",
            "_model_module_version": "1.5.0",
            "_view_count": null,
            "disabled": false,
            "_view_module_version": "1.5.0",
            "description_tooltip": null,
            "_model_module": "@jupyter-widgets/controls",
            "layout": "IPY_MODEL_e7092526f9ec4fa984d434d34654fe17"
          }
        },
        "c51aa051efe04d978e40c4be5acdea54": {
          "model_module": "@jupyter-widgets/output",
          "model_name": "OutputModel",
          "state": {
            "_view_name": "OutputView",
            "msg_id": "",
            "_dom_classes": [],
            "_model_name": "OutputModel",
            "outputs": [
              {
                "output_type": "display_data",
                "metadata": {
                  "tags": [],
                  "needs_background": "light"
                },
                "image/png": "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\n",
                "text/plain": "<Figure size 432x288 with 1 Axes>"
              }
            ],
            "_view_module": "@jupyter-widgets/output",
            "_model_module_version": "1.0.0",
            "_view_count": null,
            "_view_module_version": "1.0.0",
            "layout": "IPY_MODEL_89024badebc249c3ac8321ee959bc8d3",
            "_model_module": "@jupyter-widgets/output"
          }
        },
        "bde7805fef78496ca727cd7bc63f0e68": {
          "model_module": "@jupyter-widgets/controls",
          "model_name": "DescriptionStyleModel",
          "state": {
            "_view_name": "StyleView",
            "_model_name": "DescriptionStyleModel",
            "description_width": "",
            "_view_module": "@jupyter-widgets/base",
            "_model_module_version": "1.5.0",
            "_view_count": null,
            "_view_module_version": "1.2.0",
            "_model_module": "@jupyter-widgets/controls"
          }
        },
        "e7092526f9ec4fa984d434d34654fe17": {
          "model_module": "@jupyter-widgets/base",
          "model_name": "LayoutModel",
          "state": {
            "_view_name": "LayoutView",
            "grid_template_rows": null,
            "right": null,
            "justify_content": null,
            "_view_module": "@jupyter-widgets/base",
            "overflow": null,
            "_model_module_version": "1.2.0",
            "_view_count": null,
            "flex_flow": null,
            "width": null,
            "min_width": null,
            "border": null,
            "align_items": null,
            "bottom": null,
            "_model_module": "@jupyter-widgets/base",
            "top": null,
            "grid_column": null,
            "overflow_y": null,
            "overflow_x": null,
            "grid_auto_flow": null,
            "grid_area": null,
            "grid_template_columns": null,
            "flex": null,
            "_model_name": "LayoutModel",
            "justify_items": null,
            "grid_row": null,
            "max_height": null,
            "align_content": null,
            "visibility": null,
            "align_self": null,
            "height": null,
            "min_height": null,
            "padding": null,
            "grid_auto_rows": null,
            "grid_gap": null,
            "max_width": null,
            "order": null,
            "_view_module_version": "1.2.0",
            "grid_template_areas": null,
            "object_position": null,
            "object_fit": null,
            "grid_auto_columns": null,
            "margin": null,
            "display": null,
            "left": null
          }
        },
        "89024badebc249c3ac8321ee959bc8d3": {
          "model_module": "@jupyter-widgets/base",
          "model_name": "LayoutModel",
          "state": {
            "_view_name": "LayoutView",
            "grid_template_rows": null,
            "right": null,
            "justify_content": null,
            "_view_module": "@jupyter-widgets/base",
            "overflow": null,
            "_model_module_version": "1.2.0",
            "_view_count": null,
            "flex_flow": null,
            "width": null,
            "min_width": null,
            "border": null,
            "align_items": null,
            "bottom": null,
            "_model_module": "@jupyter-widgets/base",
            "top": null,
            "grid_column": null,
            "overflow_y": null,
            "overflow_x": null,
            "grid_auto_flow": null,
            "grid_area": null,
            "grid_template_columns": null,
            "flex": null,
            "_model_name": "LayoutModel",
            "justify_items": null,
            "grid_row": null,
            "max_height": null,
            "align_content": null,
            "visibility": null,
            "align_self": null,
            "height": null,
            "min_height": null,
            "padding": null,
            "grid_auto_rows": null,
            "grid_gap": null,
            "max_width": null,
            "order": null,
            "_view_module_version": "1.2.0",
            "grid_template_areas": null,
            "object_position": null,
            "object_fit": null,
            "grid_auto_columns": null,
            "margin": null,
            "display": null,
            "left": null
          }
        },
        "ebc11e7582874b4085d82fa9256292c7": {
          "model_module": "@jupyter-widgets/controls",
          "model_name": "VBoxModel",
          "state": {
            "_view_name": "VBoxView",
            "_dom_classes": [
              "widget-interact"
            ],
            "_model_name": "VBoxModel",
            "_view_module": "@jupyter-widgets/controls",
            "_model_module_version": "1.5.0",
            "_view_count": null,
            "_view_module_version": "1.5.0",
            "box_style": "",
            "layout": "IPY_MODEL_4bd3c26386bc44b5b0d24680e241c605",
            "_model_module": "@jupyter-widgets/controls",
            "children": [
              "IPY_MODEL_e9bddb68212844d1980a2f0d9b5e9c5d",
              "IPY_MODEL_10828df01ed44ba099bbb45ee7c5ac95"
            ]
          }
        },
        "4bd3c26386bc44b5b0d24680e241c605": {
          "model_module": "@jupyter-widgets/base",
          "model_name": "LayoutModel",
          "state": {
            "_view_name": "LayoutView",
            "grid_template_rows": null,
            "right": null,
            "justify_content": null,
            "_view_module": "@jupyter-widgets/base",
            "overflow": null,
            "_model_module_version": "1.2.0",
            "_view_count": null,
            "flex_flow": null,
            "width": null,
            "min_width": null,
            "border": null,
            "align_items": null,
            "bottom": null,
            "_model_module": "@jupyter-widgets/base",
            "top": null,
            "grid_column": null,
            "overflow_y": null,
            "overflow_x": null,
            "grid_auto_flow": null,
            "grid_area": null,
            "grid_template_columns": null,
            "flex": null,
            "_model_name": "LayoutModel",
            "justify_items": null,
            "grid_row": null,
            "max_height": null,
            "align_content": null,
            "visibility": null,
            "align_self": null,
            "height": null,
            "min_height": null,
            "padding": null,
            "grid_auto_rows": null,
            "grid_gap": null,
            "max_width": null,
            "order": null,
            "_view_module_version": "1.2.0",
            "grid_template_areas": null,
            "object_position": null,
            "object_fit": null,
            "grid_auto_columns": null,
            "margin": null,
            "display": null,
            "left": null
          }
        },
        "e9bddb68212844d1980a2f0d9b5e9c5d": {
          "model_module": "@jupyter-widgets/controls",
          "model_name": "DropdownModel",
          "state": {
            "_options_labels": [
              "CERETE",
              "CIENAGA DE ORO",
              "SAN PELAYO",
              "LORICA",
              "MONTERIA",
              "COTORRA"
            ],
            "_view_name": "DropdownView",
            "style": "IPY_MODEL_c7dac5bdc5b540cfb0446981a28aa377",
            "_dom_classes": [],
            "description": "municipality",
            "_model_name": "DropdownModel",
            "index": 3,
            "_view_module": "@jupyter-widgets/controls",
            "_model_module_version": "1.5.0",
            "_view_count": null,
            "disabled": false,
            "_view_module_version": "1.5.0",
            "description_tooltip": null,
            "_model_module": "@jupyter-widgets/controls",
            "layout": "IPY_MODEL_73f9a84d30fe4fa097ef4fa593b143fd"
          }
        },
        "10828df01ed44ba099bbb45ee7c5ac95": {
          "model_module": "@jupyter-widgets/output",
          "model_name": "OutputModel",
          "state": {
            "_view_name": "OutputView",
            "msg_id": "",
            "_dom_classes": [],
            "_model_name": "OutputModel",
            "outputs": [
              {
                "output_type": "display_data",
                "metadata": {
                  "tags": [],
                  "needs_background": "light"
                },
                "image/png": "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\n",
                "text/plain": "<Figure size 432x288 with 1 Axes>"
              }
            ],
            "_view_module": "@jupyter-widgets/output",
            "_model_module_version": "1.0.0",
            "_view_count": null,
            "_view_module_version": "1.0.0",
            "layout": "IPY_MODEL_10574b7de87f4709b9dc0371950f20e5",
            "_model_module": "@jupyter-widgets/output"
          }
        },
        "c7dac5bdc5b540cfb0446981a28aa377": {
          "model_module": "@jupyter-widgets/controls",
          "model_name": "DescriptionStyleModel",
          "state": {
            "_view_name": "StyleView",
            "_model_name": "DescriptionStyleModel",
            "description_width": "",
            "_view_module": "@jupyter-widgets/base",
            "_model_module_version": "1.5.0",
            "_view_count": null,
            "_view_module_version": "1.2.0",
            "_model_module": "@jupyter-widgets/controls"
          }
        },
        "73f9a84d30fe4fa097ef4fa593b143fd": {
          "model_module": "@jupyter-widgets/base",
          "model_name": "LayoutModel",
          "state": {
            "_view_name": "LayoutView",
            "grid_template_rows": null,
            "right": null,
            "justify_content": null,
            "_view_module": "@jupyter-widgets/base",
            "overflow": null,
            "_model_module_version": "1.2.0",
            "_view_count": null,
            "flex_flow": null,
            "width": null,
            "min_width": null,
            "border": null,
            "align_items": null,
            "bottom": null,
            "_model_module": "@jupyter-widgets/base",
            "top": null,
            "grid_column": null,
            "overflow_y": null,
            "overflow_x": null,
            "grid_auto_flow": null,
            "grid_area": null,
            "grid_template_columns": null,
            "flex": null,
            "_model_name": "LayoutModel",
            "justify_items": null,
            "grid_row": null,
            "max_height": null,
            "align_content": null,
            "visibility": null,
            "align_self": null,
            "height": null,
            "min_height": null,
            "padding": null,
            "grid_auto_rows": null,
            "grid_gap": null,
            "max_width": null,
            "order": null,
            "_view_module_version": "1.2.0",
            "grid_template_areas": null,
            "object_position": null,
            "object_fit": null,
            "grid_auto_columns": null,
            "margin": null,
            "display": null,
            "left": null
          }
        },
        "10574b7de87f4709b9dc0371950f20e5": {
          "model_module": "@jupyter-widgets/base",
          "model_name": "LayoutModel",
          "state": {
            "_view_name": "LayoutView",
            "grid_template_rows": null,
            "right": null,
            "justify_content": null,
            "_view_module": "@jupyter-widgets/base",
            "overflow": null,
            "_model_module_version": "1.2.0",
            "_view_count": null,
            "flex_flow": null,
            "width": null,
            "min_width": null,
            "border": null,
            "align_items": null,
            "bottom": null,
            "_model_module": "@jupyter-widgets/base",
            "top": null,
            "grid_column": null,
            "overflow_y": null,
            "overflow_x": null,
            "grid_auto_flow": null,
            "grid_area": null,
            "grid_template_columns": null,
            "flex": null,
            "_model_name": "LayoutModel",
            "justify_items": null,
            "grid_row": null,
            "max_height": null,
            "align_content": null,
            "visibility": null,
            "align_self": null,
            "height": null,
            "min_height": null,
            "padding": null,
            "grid_auto_rows": null,
            "grid_gap": null,
            "max_width": null,
            "order": null,
            "_view_module_version": "1.2.0",
            "grid_template_areas": null,
            "object_position": null,
            "object_fit": null,
            "grid_auto_columns": null,
            "margin": null,
            "display": null,
            "left": null
          }
        }
      }
    }
  },
  "cells": [
    {
      "cell_type": "markdown",
      "metadata": {
        "id": "view-in-github",
        "colab_type": "text"
      },
      "source": [
        "<a href=\"https://colab.research.google.com/github/anaguilarar/ghg_emissions/blob/main/ghg_emissions_example.ipynb\" target=\"_parent\"><img src=\"https://colab.research.google.com/assets/colab-badge.svg\" alt=\"Open In Colab\"/></a>"
      ]
    },
    {
      "cell_type": "markdown",
      "metadata": {
        "id": "WKDSxOaSF7_t"
      },
      "source": [
        "## Greenhouse gas (GHG) emissions for agriculture: Examples"
      ]
    },
    {
      "cell_type": "markdown",
      "metadata": {
        "id": "C8LWqtgbGEgH"
      },
      "source": [
        "The GHG measurement, produced by agricultural activities such as fertilizers, irrigation, tillage, among others, is important for quantifying the impact that this sector has on climate change. For that reason, several methodologies have been proposed to address a baseline measurement using data from farmers. The main purpose of this repository is to offer a tool able to gauge GHG emissions estimation for multiple commercial cropping events. It is important to mention that this work is based on the Mitigation Option Tool for Agriculture project([CCAFS - MOT](https://ccafs.cgiar.org/research/projects/mitigation-options-tool-agriculture-ccafs-mot)) developed by CCAFS and The Aberdeen University. \r\n",
        "\r\n",
        "Clonning the repository"
      ]
    },
    {
      "cell_type": "markdown",
      "metadata": {
        "id": "gxbYqFNSGLli"
      },
      "source": [
        "Following examples are made for gauging GHG emissions from farmer productive events. The first one shows how many CO<sub>2</sub> eq.ha<sup>-1</sup> was produced from fields planted with maize.\r\n",
        "First step is to clone the repository"
      ]
    },
    {
      "cell_type": "code",
      "metadata": {
        "colab": {
          "base_uri": "https://localhost:8080/"
        },
        "id": "gEF6CPsxF3fD",
        "outputId": "8c252639-ab94-4163-df4e-3bd8e2c8a135"
      },
      "source": [
        "!git clone https://github.com/anaguilarar/ghg_emissions.git"
      ],
      "execution_count": 1,
      "outputs": [
        {
          "output_type": "stream",
          "text": [
            "Cloning into 'ghg_emissions'...\n",
            "remote: Enumerating objects: 105, done.\u001b[K\n",
            "remote: Counting objects: 100% (105/105), done.\u001b[K\n",
            "remote: Compressing objects: 100% (86/86), done.\u001b[K\n",
            "remote: Total 105 (delta 32), reused 89 (delta 18), pack-reused 0\u001b[K\n",
            "Receiving objects: 100% (105/105), 4.20 MiB | 3.41 MiB/s, done.\n",
            "Resolving deltas: 100% (32/32), done.\n"
          ],
          "name": "stdout"
        }
      ]
    },
    {
      "cell_type": "code",
      "metadata": {
        "colab": {
          "base_uri": "https://localhost:8080/"
        },
        "id": "S4yunvBiPckf",
        "outputId": "f8a05c8b-ad14-48e7-c08a-3c6e4bc0984c"
      },
      "source": [
        "!pip install rasterio"
      ],
      "execution_count": 2,
      "outputs": [
        {
          "output_type": "stream",
          "text": [
            "Collecting rasterio\n",
            "\u001b[?25l  Downloading https://files.pythonhosted.org/packages/c0/a8/63d45bb74c17c60e607b4beae77d68ad4c9ea6dff788534ce8c835d1d2f1/rasterio-1.2.0-cp36-cp36m-manylinux1_x86_64.whl (19.1MB)\n",
            "\u001b[K     |████████████████████████████████| 19.1MB 29.7MB/s \n",
            "\u001b[?25hCollecting affine\n",
            "  Downloading https://files.pythonhosted.org/packages/ac/a6/1a39a1ede71210e3ddaf623982b06ecfc5c5c03741ae659073159184cd3e/affine-2.3.0-py2.py3-none-any.whl\n",
            "Collecting snuggs>=1.4.1\n",
            "  Downloading https://files.pythonhosted.org/packages/cc/0e/d27d6e806d6c0d1a2cfdc5d1f088e42339a0a54a09c3343f7f81ec8947ea/snuggs-1.4.7-py3-none-any.whl\n",
            "Requirement already satisfied: certifi in /usr/local/lib/python3.6/dist-packages (from rasterio) (2020.12.5)\n",
            "Collecting click-plugins\n",
            "  Downloading https://files.pythonhosted.org/packages/e9/da/824b92d9942f4e472702488857914bdd50f73021efea15b4cad9aca8ecef/click_plugins-1.1.1-py2.py3-none-any.whl\n",
            "Collecting cligj>=0.5\n",
            "  Downloading https://files.pythonhosted.org/packages/42/1e/947eadf10d6804bf276eb8a038bd5307996dceaaa41cfd21b7a15ec62f5d/cligj-0.7.1-py3-none-any.whl\n",
            "Requirement already satisfied: attrs in /usr/local/lib/python3.6/dist-packages (from rasterio) (20.3.0)\n",
            "Requirement already satisfied: click<8,>=4.0 in /usr/local/lib/python3.6/dist-packages (from rasterio) (7.1.2)\n",
            "Requirement already satisfied: numpy in /usr/local/lib/python3.6/dist-packages (from rasterio) (1.19.5)\n",
            "Requirement already satisfied: pyparsing>=2.1.6 in /usr/local/lib/python3.6/dist-packages (from snuggs>=1.4.1->rasterio) (2.4.7)\n",
            "Installing collected packages: affine, snuggs, click-plugins, cligj, rasterio\n",
            "Successfully installed affine-2.3.0 click-plugins-1.1.1 cligj-0.7.1 rasterio-1.2.0 snuggs-1.4.7\n"
          ],
          "name": "stdout"
        }
      ]
    },
    {
      "cell_type": "markdown",
      "metadata": {
        "id": "lnxPGQFaXg5B"
      },
      "source": [
        "# Example1:"
      ]
    },
    {
      "cell_type": "markdown",
      "metadata": {
        "id": "EywGxQqIMxgB"
      },
      "source": [
        "We are going to relocate the current work directory to ghg_emissions folder"
      ]
    },
    {
      "cell_type": "code",
      "metadata": {
        "id": "8hXL1uuaMle5"
      },
      "source": [
        "import os \r\n",
        "os.chdir(\"ghg_emissions\")"
      ],
      "execution_count": 7,
      "outputs": []
    },
    {
      "cell_type": "markdown",
      "metadata": {
        "id": "s2_LdpMpOWcY"
      },
      "source": [
        "Now we can run our first example. This data has information from multiple crop events."
      ]
    },
    {
      "cell_type": "code",
      "metadata": {
        "colab": {
          "base_uri": "https://localhost:8080/"
        },
        "id": "XXhOSWRBN6aw",
        "outputId": "95672faa-0055-44af-d8ce-7c3e974ade00"
      },
      "source": [
        "from scripts import crop_ghg_emissions as ghg\r\n",
        "from scripts import plot_functions\r\n",
        "ghg_data = ghg.ghg_emissions('data/inputs_mot_example.xlsx', ## file path to the general information \r\n",
        "                             'data/fertiliser_inputs_mot_example.xlsx', ## file path to the fertilizers information   \r\n",
        "                             id_event= 'event_7') ## you can ppoint out an specif crop event, or for run through the all events don't put this paremeter\r\n"
      ],
      "execution_count": 5,
      "outputs": [
        {
          "output_type": "stream",
          "text": [
            "calculating emissions for event_7\n",
            "Climate Classification: tropical moist\n"
          ],
          "name": "stdout"
        }
      ]
    },
    {
      "cell_type": "markdown",
      "metadata": {
        "id": "612021kaPsRy"
      },
      "source": [
        "Once we use our ghg_emissions function, we can check the GHG emissions (CO<sub>2</sub> eq.ha<sup>-1</sup>) regarding to Burning residues, Land use change, Soil mining, Soil management, and Fertilisers."
      ]
    },
    {
      "cell_type": "code",
      "metadata": {
        "colab": {
          "base_uri": "https://localhost:8080/",
          "height": 94
        },
        "id": "f8JO-WcOPreC",
        "outputId": "f004aa16-9d00-4086-f6fd-c485d1ab13bd"
      },
      "source": [
        "ghg_data.emissions_summary"
      ],
      "execution_count": 8,
      "outputs": [
        {
          "output_type": "execute_result",
          "data": {
            "text/html": [
              "<div>\n",
              "<style scoped>\n",
              "    .dataframe tbody tr th:only-of-type {\n",
              "        vertical-align: middle;\n",
              "    }\n",
              "\n",
              "    .dataframe tbody tr th {\n",
              "        vertical-align: top;\n",
              "    }\n",
              "\n",
              "    .dataframe thead th {\n",
              "        text-align: right;\n",
              "    }\n",
              "</style>\n",
              "<table border=\"1\" class=\"dataframe\">\n",
              "  <thead>\n",
              "    <tr style=\"text-align: right;\">\n",
              "      <th></th>\n",
              "      <th>id_event</th>\n",
              "      <th>municipality</th>\n",
              "      <th>Fertiliser production</th>\n",
              "      <th>Fertlises induced field emissions</th>\n",
              "      <th>Soil Management</th>\n",
              "      <th>Soil Mining</th>\n",
              "      <th>Land Use Change effect on soil</th>\n",
              "      <th>Burning residues</th>\n",
              "      <th>Methane from rice</th>\n",
              "    </tr>\n",
              "  </thead>\n",
              "  <tbody>\n",
              "    <tr>\n",
              "      <th>0</th>\n",
              "      <td>event_7</td>\n",
              "      <td>cartagena</td>\n",
              "      <td>0.0</td>\n",
              "      <td>31.36</td>\n",
              "      <td>-1638.12</td>\n",
              "      <td>786.200471</td>\n",
              "      <td>4712.4</td>\n",
              "      <td>0</td>\n",
              "      <td>707.623378</td>\n",
              "    </tr>\n",
              "  </tbody>\n",
              "</table>\n",
              "</div>"
            ],
            "text/plain": [
              "  id_event municipality  ...  Burning residues  Methane from rice\n",
              "0  event_7    cartagena  ...                 0         707.623378\n",
              "\n",
              "[1 rows x 9 columns]"
            ]
          },
          "metadata": {
            "tags": []
          },
          "execution_count": 8
        }
      ]
    },
    {
      "cell_type": "markdown",
      "metadata": {
        "id": "UJEqkV57QKl9"
      },
      "source": [
        "In the case that we are interested on calculating emisisons for multiple crop event, we must no include the id_event parameter"
      ]
    },
    {
      "cell_type": "code",
      "metadata": {
        "colab": {
          "base_uri": "https://localhost:8080/",
          "height": 588
        },
        "id": "YDPOBbBBQJvc",
        "outputId": "9f4ab45b-f3fd-49c0-c980-f6cc6eddb7a2"
      },
      "source": [
        "ghg_data = ghg.ghg_emissions('data/inputs_mot_example.xlsx', ## file path to the general information \r\n",
        "                             'data/fertiliser_inputs_mot_example.xlsx')\r\n",
        "\r\n",
        "ghg_data.emissions_summary"
      ],
      "execution_count": 9,
      "outputs": [
        {
          "output_type": "stream",
          "text": [
            "calculating emissions for event_0\n",
            "Climate Classification: subtropical dry\n",
            "calculating emissions for event_1\n",
            "Climate Classification: subtropical dry\n",
            "calculating emissions for event_2\n",
            "Climate Classification: subtropical dry\n",
            "calculating emissions for event_3\n",
            "Climate Classification: tropical moist\n",
            "calculating emissions for event_4\n",
            "Climate Classification: tropical moist\n",
            "calculating emissions for event_5\n",
            "Climate Classification: tropical moist\n",
            "calculating emissions for event_6\n",
            "Climate Classification: tropical moist\n",
            "calculating emissions for event_7\n",
            "Climate Classification: tropical moist\n"
          ],
          "name": "stdout"
        },
        {
          "output_type": "execute_result",
          "data": {
            "text/html": [
              "<div>\n",
              "<style scoped>\n",
              "    .dataframe tbody tr th:only-of-type {\n",
              "        vertical-align: middle;\n",
              "    }\n",
              "\n",
              "    .dataframe tbody tr th {\n",
              "        vertical-align: top;\n",
              "    }\n",
              "\n",
              "    .dataframe thead th {\n",
              "        text-align: right;\n",
              "    }\n",
              "</style>\n",
              "<table border=\"1\" class=\"dataframe\">\n",
              "  <thead>\n",
              "    <tr style=\"text-align: right;\">\n",
              "      <th></th>\n",
              "      <th>id_event</th>\n",
              "      <th>municipality</th>\n",
              "      <th>Fertiliser production</th>\n",
              "      <th>Fertlises induced field emissions</th>\n",
              "      <th>Soil Management</th>\n",
              "      <th>Soil Mining</th>\n",
              "      <th>Land Use Change effect on soil</th>\n",
              "      <th>Burning residues</th>\n",
              "      <th>Methane from rice</th>\n",
              "    </tr>\n",
              "  </thead>\n",
              "  <tbody>\n",
              "    <tr>\n",
              "      <th>0</th>\n",
              "      <td>event_0</td>\n",
              "      <td>cundinamarca</td>\n",
              "      <td>584.37</td>\n",
              "      <td>1019.36</td>\n",
              "      <td>-4304.35</td>\n",
              "      <td>0.000000</td>\n",
              "      <td>8910.000000</td>\n",
              "      <td>876.359608</td>\n",
              "      <td>NaN</td>\n",
              "    </tr>\n",
              "    <tr>\n",
              "      <th>0</th>\n",
              "      <td>event_1</td>\n",
              "      <td>santander</td>\n",
              "      <td>206.00</td>\n",
              "      <td>305.77</td>\n",
              "      <td>-374.66</td>\n",
              "      <td>809.750588</td>\n",
              "      <td>1691.397849</td>\n",
              "      <td>0.000000</td>\n",
              "      <td>NaN</td>\n",
              "    </tr>\n",
              "    <tr>\n",
              "      <th>0</th>\n",
              "      <td>event_2</td>\n",
              "      <td>nariño</td>\n",
              "      <td>484.04</td>\n",
              "      <td>344.79</td>\n",
              "      <td>-1430.00</td>\n",
              "      <td>0.000000</td>\n",
              "      <td>0.000000</td>\n",
              "      <td>0.000000</td>\n",
              "      <td>NaN</td>\n",
              "    </tr>\n",
              "    <tr>\n",
              "      <th>0</th>\n",
              "      <td>event_3</td>\n",
              "      <td>córdoba</td>\n",
              "      <td>650.93</td>\n",
              "      <td>772.42</td>\n",
              "      <td>-4895.60</td>\n",
              "      <td>1805.334588</td>\n",
              "      <td>0.000000</td>\n",
              "      <td>666.949453</td>\n",
              "      <td>NaN</td>\n",
              "    </tr>\n",
              "    <tr>\n",
              "      <th>0</th>\n",
              "      <td>event_4</td>\n",
              "      <td>mmm</td>\n",
              "      <td>1384.00</td>\n",
              "      <td>2693.56</td>\n",
              "      <td>0.00</td>\n",
              "      <td>0.000000</td>\n",
              "      <td>4712.400000</td>\n",
              "      <td>73.510650</td>\n",
              "      <td>NaN</td>\n",
              "    </tr>\n",
              "    <tr>\n",
              "      <th>0</th>\n",
              "      <td>event_5</td>\n",
              "      <td>reykiavik</td>\n",
              "      <td>248.00</td>\n",
              "      <td>480.56</td>\n",
              "      <td>-2288.00</td>\n",
              "      <td>0.000000</td>\n",
              "      <td>1801.800000</td>\n",
              "      <td>0.000000</td>\n",
              "      <td>NaN</td>\n",
              "    </tr>\n",
              "    <tr>\n",
              "      <th>0</th>\n",
              "      <td>event_6</td>\n",
              "      <td>pasto</td>\n",
              "      <td>252.44</td>\n",
              "      <td>126.19</td>\n",
              "      <td>-7227.00</td>\n",
              "      <td>686.263529</td>\n",
              "      <td>6237.000000</td>\n",
              "      <td>1134.429870</td>\n",
              "      <td>38453.949262</td>\n",
              "    </tr>\n",
              "    <tr>\n",
              "      <th>0</th>\n",
              "      <td>event_7</td>\n",
              "      <td>cartagena</td>\n",
              "      <td>0.00</td>\n",
              "      <td>31.36</td>\n",
              "      <td>-1638.12</td>\n",
              "      <td>786.200471</td>\n",
              "      <td>4712.400000</td>\n",
              "      <td>0.000000</td>\n",
              "      <td>707.623378</td>\n",
              "    </tr>\n",
              "  </tbody>\n",
              "</table>\n",
              "</div>"
            ],
            "text/plain": [
              "  id_event  municipality  ...  Burning residues  Methane from rice\n",
              "0  event_0  cundinamarca  ...        876.359608                NaN\n",
              "0  event_1     santander  ...          0.000000                NaN\n",
              "0  event_2        nariño  ...          0.000000                NaN\n",
              "0  event_3       córdoba  ...        666.949453                NaN\n",
              "0  event_4           mmm  ...         73.510650                NaN\n",
              "0  event_5     reykiavik  ...          0.000000                NaN\n",
              "0  event_6         pasto  ...       1134.429870       38453.949262\n",
              "0  event_7     cartagena  ...          0.000000         707.623378\n",
              "\n",
              "[8 rows x 9 columns]"
            ]
          },
          "metadata": {
            "tags": []
          },
          "execution_count": 9
        }
      ]
    },
    {
      "cell_type": "markdown",
      "metadata": {
        "id": "HNJ5QxjSPneR"
      },
      "source": [
        "###Visualization\r\n",
        "\r\n",
        "For an easy visualization, we included a bar plot graphic"
      ]
    },
    {
      "cell_type": "code",
      "metadata": {
        "colab": {
          "base_uri": "https://localhost:8080/",
          "height": 284
        },
        "id": "XAs9VXIiPmvw",
        "outputId": "933a2cac-1384-4548-bf5d-7242ef0ccc32"
      },
      "source": [
        "plot_functions.bar_plot_emissions(\r\n",
        "    ghg_data.emissions_summary, #  table summary obtained from previous step\r\n",
        "    'mean')# function to aggregated all crop events"
      ],
      "execution_count": 10,
      "outputs": [
        {
          "output_type": "display_data",
          "data": {
            "image/png": "[encoded data removed]",
            "text/plain": [
              "<Figure size 432x288 with 1 Axes>"
            ]
          },
          "metadata": {
            "tags": [],
            "needs_background": "light"
          }
        }
      ]
    },
    {
      "cell_type": "markdown",
      "metadata": {
        "id": "wS67R0tqRTfI"
      },
      "source": [
        "A final plot was also included aimed at showing the emissions for an specific locality"
      ]
    },
    {
      "cell_type": "code",
      "metadata": {
        "colab": {
          "base_uri": "https://localhost:8080/",
          "height": 334,
          "referenced_widgets": [
            "78b7cf033adf4ecaa2fdaba44e4a733e",
            "cd3928c702ad4dc69ceeff9f410211b0",
            "f1b7af5ff15e4becb52319ad3e1ced47",
            "c51aa051efe04d978e40c4be5acdea54",
            "bde7805fef78496ca727cd7bc63f0e68",
            "e7092526f9ec4fa984d434d34654fe17",
            "89024badebc249c3ac8321ee959bc8d3"
          ]
        },
        "id": "-AKOVhzfRxuE",
        "outputId": "13c6d131-8ab1-4cdd-bf22-84ee2711036b"
      },
      "source": [
        "from ipywidgets import interact, interactive, fixed, interact_manual\r\n",
        "import ipywidgets as widgets\r\n",
        "\r\n",
        "def f(municipality):\r\n",
        "    subset = datatest.loc[datatest['municipality'] == municipality]\r\n",
        "    plot_functions.bar_plot_emissions(subset, 'mean')\r\n",
        "    \r\n",
        "datatest = ghg_data.emissions_summary.copy()\r\n",
        "interact(f, municipality=datatest.municipality.unique())"
      ],
      "execution_count": 11,
      "outputs": [
        {
          "output_type": "display_data",
          "data": {
            "application/vnd.jupyter.widget-view+json": {
              "model_id": "78b7cf033adf4ecaa2fdaba44e4a733e",
              "version_minor": 0,
              "version_major": 2
            },
            "text/plain": [
              "interactive(children=(Dropdown(description='municipality', options=('cundinamarca', 'santander', 'nariño', 'có…"
            ]
          },
          "metadata": {
            "tags": []
          }
        },
        {
          "output_type": "execute_result",
          "data": {
            "text/plain": [
              "<function __main__.f>"
            ]
          },
          "metadata": {
            "tags": []
          },
          "execution_count": 11
        }
      ]
    },
    {
      "cell_type": "markdown",
      "metadata": {
        "id": "x8OGtcsaaEgT"
      },
      "source": [
        "###Export table\r\n",
        "\r\n",
        "Using the next line, you will be able to save the GHG summary as a csv table."
      ]
    },
    {
      "cell_type": "code",
      "metadata": {
        "id": "SdE9slEeaDQU"
      },
      "source": [
        "ghg_data.emissions_summary.to_csv(\"ghg_emissions_summary.csv\")"
      ],
      "execution_count": 17,
      "outputs": []
    },
    {
      "cell_type": "markdown",
      "metadata": {
        "id": "s77MVE-mYF0H"
      },
      "source": [
        "# Example 2:\r\n",
        "\r\n",
        "Now we are going to calculate the GHG emission for crop events, which were only reported fertilizers amount.\r\n",
        "In this scenario the code will download soil data from soilgrid's webpage. This new information will be stored at temp folder as raster files."
      ]
    },
    {
      "cell_type": "code",
      "metadata": {
        "id": "mHHvvsoCX_A0",
        "outputId": "570c2c08-86f8-4362-89cc-8e4033e41a8d",
        "colab": {
          "base_uri": "https://localhost:8080/"
        }
      },
      "source": [
        "ghg_data = ghg.ghg_emissions('data/inputs_example2.xlsx', \r\n",
        "                             'data/fertiliser_inputs_example2.xlsx')"
      ],
      "execution_count": 12,
      "outputs": [
        {
          "output_type": "stream",
          "text": [
            "calculating emissions for 537\n",
            "ocs_0-30cm_mean.tif file was created\n",
            "bdod_0-5cm_mean.tif file was created\n",
            "nitrogen_0-5cm_mean.tif file was created\n",
            "ocd_0-5cm_mean.tif file was created\n",
            "Soil properties were drawn from soilgrid\n",
            " bulk_density:1.34 n_content: 0.568 pH_content: 6.0, soil_organic_content:3.99\n",
            "calculating emissions for 543\n",
            "Soil properties were drawn from soilgrid\n",
            " bulk_density:1.31 n_content: 0.455 pH_content: 5.0, soil_organic_content:3.8\n",
            "calculating emissions for 53\n",
            "Soil properties were drawn from soilgrid\n",
            " bulk_density:1.38 n_content: 0.442 pH_content: 7.0, soil_organic_content:3.82\n",
            "Climate Classification: tropical moist\n",
            "calculating emissions for 54\n",
            "Soil properties were drawn from soilgrid\n",
            " bulk_density:1.39 n_content: 0.455 pH_content: 7.0, soil_organic_content:3.82\n",
            "Climate Classification: tropical moist\n",
            "calculating emissions for 56\n",
            "Soil properties were drawn from soilgrid\n",
            " bulk_density:1.39 n_content: 0.455 pH_content: 7.0, soil_organic_content:3.82\n",
            "Climate Classification: tropical moist\n",
            "calculating emissions for 57\n",
            "Soil properties were drawn from soilgrid\n",
            " bulk_density:1.35 n_content: 0.435 pH_content: 6.0, soil_organic_content:3.85\n",
            "Climate Classification: tropical moist\n",
            "calculating emissions for 273\n",
            "Soil properties were drawn from soilgrid\n",
            " bulk_density:1.37 n_content: 0.428 pH_content: 7.0, soil_organic_content:3.58\n",
            "Climate Classification: tropical moist\n",
            "calculating emissions for 282\n",
            "Soil properties were drawn from soilgrid\n",
            " bulk_density:1.3 n_content: 0.594 pH_content: 5.0, soil_organic_content:3.87\n",
            "Climate Classification: tropical moist\n",
            "calculating emissions for 283\n",
            "Soil properties were drawn from soilgrid\n",
            " bulk_density:1.33 n_content: 0.58 pH_content: 7.0, soil_organic_content:3.85\n",
            "Climate Classification: tropical moist\n",
            "calculating emissions for 284\n",
            "Soil properties were drawn from soilgrid\n",
            " bulk_density:1.39 n_content: 0.414 pH_content: 6.0, soil_organic_content:3.64\n",
            "Climate Classification: tropical moist\n",
            "calculating emissions for 286\n",
            "Soil properties were drawn from soilgrid\n",
            " bulk_density:1.39 n_content: 0.424 pH_content: 6.0, soil_organic_content:3.63\n",
            "calculating emissions for 287\n",
            "Soil properties were drawn from soilgrid\n",
            " bulk_density:1.35 n_content: 0.577 pH_content: 5.0, soil_organic_content:4.16\n",
            "Climate Classification: tropical moist\n",
            "calculating emissions for 288\n",
            "Soil properties were drawn from soilgrid\n",
            " bulk_density:1.35 n_content: 0.577 pH_content: 6.0, soil_organic_content:4.16\n",
            "Climate Classification: tropical moist\n",
            "calculating emissions for 289\n",
            "Soil properties were drawn from soilgrid\n",
            " bulk_density:1.35 n_content: 0.577 pH_content: 6.0, soil_organic_content:4.16\n",
            "Climate Classification: tropical moist\n",
            "calculating emissions for 290\n",
            "Soil properties were drawn from soilgrid\n",
            " bulk_density:1.39 n_content: 0.463 pH_content: 6.0, soil_organic_content:3.65\n",
            "Climate Classification: tropical moist\n",
            "calculating emissions for 291\n",
            "Soil properties were drawn from soilgrid\n",
            " bulk_density:1.38 n_content: 0.513 pH_content: 6.0, soil_organic_content:3.53\n",
            "Climate Classification: tropical moist\n",
            "calculating emissions for 293\n",
            "Soil properties were drawn from soilgrid\n",
            " bulk_density:1.41 n_content: 0.438 pH_content: 6.0, soil_organic_content:3.79\n",
            "Climate Classification: tropical moist\n",
            "calculating emissions for 294\n",
            "Soil properties were drawn from soilgrid\n",
            " bulk_density:1.36 n_content: 0.602 pH_content: 6.0, soil_organic_content:4.02\n",
            "calculating emissions for 295\n",
            "Soil properties were drawn from soilgrid\n",
            " bulk_density:1.35 n_content: 0.577 pH_content: 6.0, soil_organic_content:4.16\n",
            "calculating emissions for 536\n",
            "Soil properties were drawn from soilgrid\n",
            " bulk_density:1.4 n_content: 0.496 pH_content: 6.0, soil_organic_content:3.83\n",
            "calculating emissions for 539\n",
            "Soil properties were drawn from soilgrid\n",
            " bulk_density:1.4 n_content: 0.496 pH_content: 6.0, soil_organic_content:3.83\n",
            "calculating emissions for 540\n",
            "Soil properties were drawn from soilgrid\n",
            " bulk_density:1.3 n_content: 0.557 pH_content: 6.5, soil_organic_content:4.29\n",
            "calculating emissions for 548\n",
            "Soil properties were drawn from soilgrid\n",
            " bulk_density:1.36 n_content: 0.427 pH_content: 5.5, soil_organic_content:3.76\n",
            "calculating emissions for 549\n",
            "Soil properties were drawn from soilgrid\n",
            " bulk_density:1.31 n_content: 0.477 pH_content: 5.0, soil_organic_content:3.67\n",
            "calculating emissions for 559\n",
            "Soil properties were drawn from soilgrid\n",
            " bulk_density:1.33 n_content: 0.37 pH_content: 6.5, soil_organic_content:3.6\n",
            "calculating emissions for 560\n",
            "Soil properties were drawn from soilgrid\n",
            " bulk_density:1.32 n_content: 0.382 pH_content: 6.0, soil_organic_content:3.76\n",
            "calculating emissions for 617\n",
            "Soil properties were drawn from soilgrid\n",
            " bulk_density:1.33 n_content: 0.389 pH_content: 5.0, soil_organic_content:3.84\n",
            "calculating emissions for 618\n",
            "Soil properties were drawn from soilgrid\n",
            " bulk_density:1.33 n_content: 0.485 pH_content: 5.5, soil_organic_content:3.85\n",
            "calculating emissions for 766\n",
            "Soil properties were drawn from soilgrid\n",
            " bulk_density:1.33 n_content: 0.607 pH_content: 5.0, soil_organic_content:4.51\n",
            "Climate Classification: tropical moist\n",
            "calculating emissions for 781\n",
            "Soil properties were drawn from soilgrid\n",
            " bulk_density:1.32 n_content: 0.653 pH_content: 5.5, soil_organic_content:4.4\n",
            "calculating emissions for 783\n",
            "Soil properties were drawn from soilgrid\n",
            " bulk_density:1.32 n_content: 0.517 pH_content: 5.0, soil_organic_content:3.96\n",
            "Climate Classification: tropical moist\n",
            "calculating emissions for 784\n",
            "Soil properties were drawn from soilgrid\n",
            " bulk_density:1.32 n_content: 0.653 pH_content: 6.0, soil_organic_content:4.4\n",
            "Climate Classification: tropical moist\n",
            "calculating emissions for 788\n",
            "Soil properties were drawn from soilgrid\n",
            " bulk_density:1.32 n_content: 0.653 pH_content: 5.0, soil_organic_content:4.4\n",
            "calculating emissions for 791\n",
            "Soil properties were drawn from soilgrid\n",
            " bulk_density:0.0 n_content: 0.0 pH_content: 5.0, soil_organic_content:0.0\n",
            "Climate Classification: temperate continental\n",
            "calculating emissions for 797\n",
            "Soil properties were drawn from soilgrid\n",
            " bulk_density:1.34 n_content: 0.366 pH_content: 5.5, soil_organic_content:3.31\n",
            "calculating emissions for 804\n",
            "Soil properties were drawn from soilgrid\n",
            " bulk_density:1.33 n_content: 0.313 pH_content: 5.5, soil_organic_content:3.27\n",
            "calculating emissions for 805\n",
            "Soil properties were drawn from soilgrid\n",
            " bulk_density:1.35 n_content: 0.442 pH_content: 5.0, soil_organic_content:3.94\n",
            "calculating emissions for 806\n",
            "Soil properties were drawn from soilgrid\n",
            " bulk_density:1.31 n_content: 0.473 pH_content: 5.5, soil_organic_content:3.84\n",
            "calculating emissions for 813\n",
            "Soil properties were drawn from soilgrid\n",
            " bulk_density:1.33 n_content: 0.322 pH_content: 6.0, soil_organic_content:3.34\n",
            "calculating emissions for 814\n",
            "Soil properties were drawn from soilgrid\n",
            " bulk_density:1.34 n_content: 0.275 pH_content: 5.0, soil_organic_content:3.57\n",
            "Climate Classification: tropical moist\n",
            "calculating emissions for 816\n",
            "Soil properties were drawn from soilgrid\n",
            " bulk_density:1.34 n_content: 0.312 pH_content: 5.5, soil_organic_content:3.02\n",
            "Climate Classification: tropical moist\n",
            "calculating emissions for 817\n",
            "Soil properties were drawn from soilgrid\n",
            " bulk_density:1.32 n_content: 0.346 pH_content: 5.0, soil_organic_content:3.46\n",
            "calculating emissions for 818\n",
            "Soil properties were drawn from soilgrid\n",
            " bulk_density:1.33 n_content: 0.645 pH_content: 5.5, soil_organic_content:4.11\n",
            "Climate Classification: tropical moist\n",
            "calculating emissions for 820\n",
            "Soil properties were drawn from soilgrid\n",
            " bulk_density:1.27 n_content: 0.595 pH_content: 5.0, soil_organic_content:4.08\n",
            "calculating emissions for 821\n",
            "Soil properties were drawn from soilgrid\n",
            " bulk_density:1.35 n_content: 0.393 pH_content: 6.0, soil_organic_content:2.88\n",
            "calculating emissions for 823\n",
            "Soil properties were drawn from soilgrid\n",
            " bulk_density:1.34 n_content: 0.32 pH_content: 5.5, soil_organic_content:3.25\n",
            "calculating emissions for 824\n",
            "Soil properties were drawn from soilgrid\n",
            " bulk_density:1.34 n_content: 0.321 pH_content: 5.0, soil_organic_content:3.21\n",
            "calculating emissions for 826\n",
            "Soil properties were drawn from soilgrid\n",
            " bulk_density:1.27 n_content: 0.405 pH_content: 6.0, soil_organic_content:3.35\n",
            "Climate Classification: tropical moist\n",
            "calculating emissions for 827\n",
            "Soil properties were drawn from soilgrid\n",
            " bulk_density:1.32 n_content: 0.418 pH_content: 4.5, soil_organic_content:3.49\n",
            "calculating emissions for 829\n",
            "Soil properties were drawn from soilgrid\n",
            " bulk_density:1.3 n_content: 0.392 pH_content: 4.5, soil_organic_content:3.33\n",
            "calculating emissions for 830\n",
            "Soil properties were drawn from soilgrid\n",
            " bulk_density:1.34 n_content: 0.298 pH_content: 6.0, soil_organic_content:3.25\n",
            "calculating emissions for 835\n",
            "Soil properties were drawn from soilgrid\n",
            " bulk_density:1.34 n_content: 0.435 pH_content: 4.5, soil_organic_content:3.21\n",
            "calculating emissions for 838\n",
            "Soil properties were drawn from soilgrid\n",
            " bulk_density:0.0 n_content: 0.0 pH_content: 6.0, soil_organic_content:0.0\n",
            "calculating emissions for 840\n",
            "Soil properties were drawn from soilgrid\n",
            " bulk_density:1.31 n_content: 0.343 pH_content: 5.0, soil_organic_content:3.54\n",
            "calculating emissions for 787\n",
            "Soil properties were drawn from soilgrid\n",
            " bulk_density:1.39 n_content: 0.455 pH_content: 5.5, soil_organic_content:3.82\n",
            "calculating emissions for 769\n",
            "Soil properties were drawn from soilgrid\n",
            " bulk_density:1.32 n_content: 0.517 pH_content: 4.5, soil_organic_content:3.96\n",
            "calculating emissions for 779\n",
            "Soil properties were drawn from soilgrid\n",
            " bulk_density:1.32 n_content: 0.653 pH_content: 5.5, soil_organic_content:4.4\n",
            "Climate Classification: tropical moist\n",
            "calculating emissions for 780\n",
            "Soil properties were drawn from soilgrid\n",
            " bulk_density:1.33 n_content: 0.607 pH_content: 6.0, soil_organic_content:4.51\n",
            "Climate Classification: tropical moist\n",
            "calculating emissions for 786\n",
            "Soil properties were drawn from soilgrid\n",
            " bulk_density:1.36 n_content: 0.275 pH_content: 6.5, soil_organic_content:3.18\n",
            "Climate Classification: tropical moist\n",
            "calculating emissions for 807\n",
            "Soil properties were drawn from soilgrid\n",
            " bulk_density:1.28 n_content: 0.298 pH_content: 5.5, soil_organic_content:3.37\n",
            "Climate Classification: tropical moist\n",
            "calculating emissions for 825\n",
            "Soil properties were drawn from soilgrid\n",
            " bulk_density:1.4 n_content: 0.409 pH_content: 5.0, soil_organic_content:3.35\n",
            "Climate Classification: tropical moist\n",
            "calculating emissions for 828\n",
            "Soil properties were drawn from soilgrid\n",
            " bulk_density:0.0 n_content: 0.0 pH_content: 5.0, soil_organic_content:0.0\n",
            "calculating emissions for 834\n",
            "Soil properties were drawn from soilgrid\n",
            " bulk_density:0.0 n_content: 0.0 pH_content: 5.0, soil_organic_content:0.0\n",
            "calculating emissions for 836\n",
            "Soil properties were drawn from soilgrid\n",
            " bulk_density:1.3 n_content: 0.364 pH_content: 5.5, soil_organic_content:3.43\n",
            "calculating emissions for 841\n",
            "Soil properties were drawn from soilgrid\n",
            " bulk_density:1.34 n_content: 0.376 pH_content: 5.0, soil_organic_content:3.2\n",
            "Climate Classification: tropical moist\n",
            "calculating emissions for 839\n",
            "phh2o_0-5cm_mean.tif file was created\n",
            "Soil properties were drawn from soilgrid\n",
            " bulk_density:1.22 n_content: 0.379 pH_content: 5.7, soil_organic_content:3.45\n",
            "Climate Classification: tropical moist\n",
            "calculating emissions for 785\n",
            "Soil properties were drawn from soilgrid\n",
            " bulk_density:1.4 n_content: 0.447 pH_content: 5.9, soil_organic_content:3.81\n",
            "Climate Classification: tropical moist\n",
            "calculating emissions for 789\n",
            "Soil properties were drawn from soilgrid\n",
            " bulk_density:0.0 n_content: 0.0 pH_content: 0.0, soil_organic_content:0.0\n"
          ],
          "name": "stdout"
        }
      ]
    },
    {
      "cell_type": "code",
      "metadata": {
        "id": "Cv-YukJaZwnL",
        "outputId": "15beada7-2249-4372-9e1f-19462c7157af",
        "colab": {
          "base_uri": "https://localhost:8080/",
          "height": 284
        }
      },
      "source": [
        "plot_functions.bar_plot_emissions(\r\n",
        "    ghg_data.emissions_summary, #  table summary obtained from previous step\r\n",
        "    'mean')# function to aggregated all crop events"
      ],
      "execution_count": 13,
      "outputs": [
        {
          "output_type": "display_data",
          "data": {
            "image/png": "[encoded data removed]",
            "text/plain": [
              "<Figure size 432x288 with 1 Axes>"
            ]
          },
          "metadata": {
            "tags": [],
            "needs_background": "light"
          }
        }
      ]
    },
    {
      "cell_type": "code",
      "metadata": {
        "id": "C_3IfvOdZ5EN",
        "outputId": "f6b22ec4-e7b9-42d2-87e6-ab60d85fda3f",
        "colab": {
          "base_uri": "https://localhost:8080/",
          "height": 406
        }
      },
      "source": [
        "ghg_data.emissions_summary"
      ],
      "execution_count": 14,
      "outputs": [
        {
          "output_type": "execute_result",
          "data": {
            "text/html": [
              "<div>\n",
              "<style scoped>\n",
              "    .dataframe tbody tr th:only-of-type {\n",
              "        vertical-align: middle;\n",
              "    }\n",
              "\n",
              "    .dataframe tbody tr th {\n",
              "        vertical-align: top;\n",
              "    }\n",
              "\n",
              "    .dataframe thead th {\n",
              "        text-align: right;\n",
              "    }\n",
              "</style>\n",
              "<table border=\"1\" class=\"dataframe\">\n",
              "  <thead>\n",
              "    <tr style=\"text-align: right;\">\n",
              "      <th></th>\n",
              "      <th>id_event</th>\n",
              "      <th>municipality</th>\n",
              "      <th>Fertiliser production</th>\n",
              "      <th>Fertlises induced field emissions</th>\n",
              "      <th>Soil Management</th>\n",
              "      <th>Soil Mining</th>\n",
              "      <th>Land Use Change effect on soil</th>\n",
              "      <th>Burning residues</th>\n",
              "    </tr>\n",
              "  </thead>\n",
              "  <tbody>\n",
              "    <tr>\n",
              "      <th>0</th>\n",
              "      <td>537</td>\n",
              "      <td>CERETE</td>\n",
              "      <td>276.30</td>\n",
              "      <td>498.84</td>\n",
              "      <td>0.0</td>\n",
              "      <td>0.000000</td>\n",
              "      <td>0</td>\n",
              "      <td>0</td>\n",
              "    </tr>\n",
              "    <tr>\n",
              "      <th>0</th>\n",
              "      <td>543</td>\n",
              "      <td>CIENAGA DE ORO</td>\n",
              "      <td>207.23</td>\n",
              "      <td>403.59</td>\n",
              "      <td>0.0</td>\n",
              "      <td>0.000000</td>\n",
              "      <td>0</td>\n",
              "      <td>0</td>\n",
              "    </tr>\n",
              "    <tr>\n",
              "      <th>0</th>\n",
              "      <td>53</td>\n",
              "      <td>CERETE</td>\n",
              "      <td>138.15</td>\n",
              "      <td>305.33</td>\n",
              "      <td>-1848.0</td>\n",
              "      <td>268.235294</td>\n",
              "      <td>0</td>\n",
              "      <td>0</td>\n",
              "    </tr>\n",
              "    <tr>\n",
              "      <th>0</th>\n",
              "      <td>54</td>\n",
              "      <td>CERETE</td>\n",
              "      <td>276.30</td>\n",
              "      <td>498.84</td>\n",
              "      <td>0.0</td>\n",
              "      <td>0.000000</td>\n",
              "      <td>0</td>\n",
              "      <td>0</td>\n",
              "    </tr>\n",
              "    <tr>\n",
              "      <th>0</th>\n",
              "      <td>56</td>\n",
              "      <td>CERETE</td>\n",
              "      <td>138.15</td>\n",
              "      <td>305.33</td>\n",
              "      <td>-1848.0</td>\n",
              "      <td>332.178824</td>\n",
              "      <td>0</td>\n",
              "      <td>0</td>\n",
              "    </tr>\n",
              "    <tr>\n",
              "      <th>...</th>\n",
              "      <td>...</td>\n",
              "      <td>...</td>\n",
              "      <td>...</td>\n",
              "      <td>...</td>\n",
              "      <td>...</td>\n",
              "      <td>...</td>\n",
              "      <td>...</td>\n",
              "      <td>...</td>\n",
              "    </tr>\n",
              "    <tr>\n",
              "      <th>0</th>\n",
              "      <td>836</td>\n",
              "      <td>CIENAGA DE ORO</td>\n",
              "      <td>345.38</td>\n",
              "      <td>597.52</td>\n",
              "      <td>0.0</td>\n",
              "      <td>0.000000</td>\n",
              "      <td>0</td>\n",
              "      <td>0</td>\n",
              "    </tr>\n",
              "    <tr>\n",
              "      <th>0</th>\n",
              "      <td>841</td>\n",
              "      <td>MONTERIA</td>\n",
              "      <td>338.30</td>\n",
              "      <td>499.07</td>\n",
              "      <td>0.0</td>\n",
              "      <td>88.865882</td>\n",
              "      <td>0</td>\n",
              "      <td>0</td>\n",
              "    </tr>\n",
              "    <tr>\n",
              "      <th>0</th>\n",
              "      <td>839</td>\n",
              "      <td>CERETE</td>\n",
              "      <td>276.30</td>\n",
              "      <td>498.84</td>\n",
              "      <td>0.0</td>\n",
              "      <td>0.000000</td>\n",
              "      <td>0</td>\n",
              "      <td>0</td>\n",
              "    </tr>\n",
              "    <tr>\n",
              "      <th>0</th>\n",
              "      <td>785</td>\n",
              "      <td>CERETE</td>\n",
              "      <td>388.16</td>\n",
              "      <td>618.60</td>\n",
              "      <td>0.0</td>\n",
              "      <td>0.000000</td>\n",
              "      <td>0</td>\n",
              "      <td>0</td>\n",
              "    </tr>\n",
              "    <tr>\n",
              "      <th>0</th>\n",
              "      <td>789</td>\n",
              "      <td>COTORRA</td>\n",
              "      <td>386.83</td>\n",
              "      <td>428.23</td>\n",
              "      <td>0.0</td>\n",
              "      <td>0.000000</td>\n",
              "      <td>0</td>\n",
              "      <td>0</td>\n",
              "    </tr>\n",
              "  </tbody>\n",
              "</table>\n",
              "<p>68 rows × 8 columns</p>\n",
              "</div>"
            ],
            "text/plain": [
              "    id_event    municipality  ...  Land Use Change effect on soil  Burning residues\n",
              "0        537          CERETE  ...                               0                 0\n",
              "0        543  CIENAGA DE ORO  ...                               0                 0\n",
              "0         53          CERETE  ...                               0                 0\n",
              "0         54          CERETE  ...                               0                 0\n",
              "0         56          CERETE  ...                               0                 0\n",
              "..       ...             ...  ...                             ...               ...\n",
              "0        836  CIENAGA DE ORO  ...                               0                 0\n",
              "0        841        MONTERIA  ...                               0                 0\n",
              "0        839          CERETE  ...                               0                 0\n",
              "0        785          CERETE  ...                               0                 0\n",
              "0        789         COTORRA  ...                               0                 0\n",
              "\n",
              "[68 rows x 8 columns]"
            ]
          },
          "metadata": {
            "tags": []
          },
          "execution_count": 14
        }
      ]
    },
    {
      "cell_type": "code",
      "metadata": {
        "id": "iUcW0QP6Z9vB",
        "outputId": "fb05744a-db66-4a75-eb81-b0273f58b5e9",
        "colab": {
          "base_uri": "https://localhost:8080/",
          "height": 334,
          "referenced_widgets": [
            "ebc11e7582874b4085d82fa9256292c7",
            "4bd3c26386bc44b5b0d24680e241c605",
            "e9bddb68212844d1980a2f0d9b5e9c5d",
            "10828df01ed44ba099bbb45ee7c5ac95",
            "c7dac5bdc5b540cfb0446981a28aa377",
            "73f9a84d30fe4fa097ef4fa593b143fd",
            "10574b7de87f4709b9dc0371950f20e5"
          ]
        }
      },
      "source": [
        "from ipywidgets import interact, interactive, fixed, interact_manual\r\n",
        "import ipywidgets as widgets\r\n",
        "\r\n",
        "def f(municipality):\r\n",
        "    subset = datatest.loc[datatest['municipality'] == municipality]\r\n",
        "    plot_functions.bar_plot_emissions(subset, 'mean')\r\n",
        "    \r\n",
        "datatest = ghg_data.emissions_summary.copy()\r\n",
        "interact(f, municipality=datatest.municipality.unique())"
      ],
      "execution_count": 15,
      "outputs": [
        {
          "output_type": "display_data",
          "data": {
            "application/vnd.jupyter.widget-view+json": {
              "model_id": "ebc11e7582874b4085d82fa9256292c7",
              "version_minor": 0,
              "version_major": 2
            },
            "text/plain": [
              "interactive(children=(Dropdown(description='municipality', options=('CERETE', 'CIENAGA DE ORO', 'SAN PELAYO', …"
            ]
          },
          "metadata": {
            "tags": []
          }
        },
        {
          "output_type": "execute_result",
          "data": {
            "text/plain": [
              "<function __main__.f>"
            ]
          },
          "metadata": {
            "tags": []
          },
          "execution_count": 15
        }
      ]
    },
    {
      "cell_type": "markdown",
      "metadata": {
        "id": "FuOWv-bzY-GK"
      },
      "source": [
        ""
      ]
    }
  ]
}